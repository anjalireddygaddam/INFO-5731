{
  "nbformat": 4,
  "nbformat_minor": 0,
  "metadata": {
    "colab": {
      "name": "Inclass Exercise_3",
      "provenance": [],
      "authorship_tag": "ABX9TyMRHNG25d3Gvd96esR13t/v",
      "include_colab_link": true
    },
    "kernelspec": {
      "name": "python3",
      "display_name": "Python 3"
    }
  },
  "cells": [
    {
      "cell_type": "markdown",
      "metadata": {
        "id": "view-in-github",
        "colab_type": "text"
      },
      "source": [
        "<a href=\"https://colab.research.google.com/github/anjalireddygaddam/INFO-5731/blob/main/Inclass_Exercise_3.ipynb\" target=\"_parent\"><img src=\"https://colab.research.google.com/assets/colab-badge.svg\" alt=\"Open In Colab\"/></a>"
      ]
    },
    {
      "cell_type": "code",
      "metadata": {
        "colab": {
          "base_uri": "https://localhost:8080/",
          "height": 433
        },
        "id": "g41tA-me98zG",
        "outputId": "de45ae7b-2914-435c-c3d3-f68bea660efc"
      },
      "source": [
        "from bs4 import BeautifulSoup\r\n",
        "import requests\r\n",
        "import pandas as pd\r\n",
        "main_heading=[] #creating list to store all the names of the reviews.\r\n",
        "body=[] #List to store the description of the reviews.\r\n",
        "#rate=[]# To store the rating of the products\r\n",
        "for number in range(50):\r\n",
        "   html_page=requests.get(\"https://www.flipkart.com/apple-airpods-pro-wireless-charging-case-active-noise-cancellation-enabled-bluetooth-headset/product-reviews/itm5aa94d4e64bd8?pid=ACCFHYJ8ZU9WDHDW&lid=LSTACCFHYJ8ZU9WDHDWZNRRJJ&marketplace=FLIPKART\").text\r\n",
        "   soup=BeautifulSoup(html_page,'lxml')  # Instance for the BeautifulSoup library\\n\",\r\n",
        "   review_name=soup.find_all(class_='_2-N8zT') #getting name of the reviews by using class name\\n\",\r\n",
        "   review_description=soup.find_all(class_='t-ZTKy') #getting description of the reviews by class name\\n\",\r\n",
        "   for a, b in zip(review_name, review_description): #iterating the list\\n\",\r\n",
        "      main_heading.append(a.text) #appending the required elements to empty list\\n\",\r\n",
        "      body.append(b.text)\r\n",
        "data_frame=pd.DataFrame(list(zip(main_heading, body)), columns=['Review Title','Review description']) #dataframe creation\\n\",\r\n",
        "print(\"Length of data frame is {0}\".format(len(data_frame))) \r\n",
        "data_frame"
      ],
      "execution_count": 1,
      "outputs": [
        {
          "output_type": "stream",
          "text": [
            "Length of data frame is 500\n"
          ],
          "name": "stdout"
        },
        {
          "output_type": "execute_result",
          "data": {
            "text/html": [
              "<div>\n",
              "<style scoped>\n",
              "    .dataframe tbody tr th:only-of-type {\n",
              "        vertical-align: middle;\n",
              "    }\n",
              "\n",
              "    .dataframe tbody tr th {\n",
              "        vertical-align: top;\n",
              "    }\n",
              "\n",
              "    .dataframe thead th {\n",
              "        text-align: right;\n",
              "    }\n",
              "</style>\n",
              "<table border=\"1\" class=\"dataframe\">\n",
              "  <thead>\n",
              "    <tr style=\"text-align: right;\">\n",
              "      <th></th>\n",
              "      <th>Review Title</th>\n",
              "      <th>Review description</th>\n",
              "    </tr>\n",
              "  </thead>\n",
              "  <tbody>\n",
              "    <tr>\n",
              "      <th>0</th>\n",
              "      <td>Highly recommended</td>\n",
              "      <td>What a solid product from Apple, it is a beast...</td>\n",
              "    </tr>\n",
              "    <tr>\n",
              "      <th>1</th>\n",
              "      <td>Brilliant</td>\n",
              "      <td>Great product for daily music listeners and th...</td>\n",
              "    </tr>\n",
              "    <tr>\n",
              "      <th>2</th>\n",
              "      <td>Does the job</td>\n",
              "      <td>Sound quality 4.8/5ANC 3/5Bass 3/5 not as good...</td>\n",
              "    </tr>\n",
              "    <tr>\n",
              "      <th>3</th>\n",
              "      <td>Classy product</td>\n",
              "      <td>If one has IOS Device - these are numero uno c...</td>\n",
              "    </tr>\n",
              "    <tr>\n",
              "      <th>4</th>\n",
              "      <td>Wonderful</td>\n",
              "      <td>Very good product sound quality good but bass ...</td>\n",
              "    </tr>\n",
              "    <tr>\n",
              "      <th>...</th>\n",
              "      <td>...</td>\n",
              "      <td>...</td>\n",
              "    </tr>\n",
              "    <tr>\n",
              "      <th>495</th>\n",
              "      <td>Classy product</td>\n",
              "      <td>The best earphones for an IPhone Hands down. T...</td>\n",
              "    </tr>\n",
              "    <tr>\n",
              "      <th>496</th>\n",
              "      <td>Good choice</td>\n",
              "      <td>If you are buying any AirPod, being it Pro or ...</td>\n",
              "    </tr>\n",
              "    <tr>\n",
              "      <th>497</th>\n",
              "      <td>Mind-blowing purchase</td>\n",
              "      <td>Editing after using the Airpods Pro with an ap...</td>\n",
              "    </tr>\n",
              "    <tr>\n",
              "      <th>498</th>\n",
              "      <td>Wonderful</td>\n",
              "      <td>Seamless Experience With Apple Devices.... (H1...</td>\n",
              "    </tr>\n",
              "    <tr>\n",
              "      <th>499</th>\n",
              "      <td>Unsatisfactory</td>\n",
              "      <td>There are far better alternatives in the marke...</td>\n",
              "    </tr>\n",
              "  </tbody>\n",
              "</table>\n",
              "<p>500 rows × 2 columns</p>\n",
              "</div>"
            ],
            "text/plain": [
              "              Review Title                                 Review description\n",
              "0       Highly recommended  What a solid product from Apple, it is a beast...\n",
              "1                Brilliant  Great product for daily music listeners and th...\n",
              "2             Does the job  Sound quality 4.8/5ANC 3/5Bass 3/5 not as good...\n",
              "3           Classy product  If one has IOS Device - these are numero uno c...\n",
              "4                Wonderful  Very good product sound quality good but bass ...\n",
              "..                     ...                                                ...\n",
              "495         Classy product  The best earphones for an IPhone Hands down. T...\n",
              "496            Good choice  If you are buying any AirPod, being it Pro or ...\n",
              "497  Mind-blowing purchase  Editing after using the Airpods Pro with an ap...\n",
              "498              Wonderful  Seamless Experience With Apple Devices.... (H1...\n",
              "499         Unsatisfactory  There are far better alternatives in the marke...\n",
              "\n",
              "[500 rows x 2 columns]"
            ]
          },
          "metadata": {
            "tags": []
          },
          "execution_count": 1
        }
      ]
    }
  ]
}