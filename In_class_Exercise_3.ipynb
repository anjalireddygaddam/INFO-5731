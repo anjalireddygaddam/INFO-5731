{
  "nbformat": 4,
  "nbformat_minor": 0,
  "metadata": {
    "colab": {
      "name": "In class Exercise_3",
      "provenance": [],
      "collapsed_sections": [],
      "include_colab_link": true
    },
    "kernelspec": {
      "display_name": "Python 3",
      "name": "python3"
    }
  },
  "cells": [
    {
      "cell_type": "markdown",
      "metadata": {
        "id": "view-in-github",
        "colab_type": "text"
      },
      "source": [
        "<a href=\"https://colab.research.google.com/github/anjalireddygaddam/INFO-5731/blob/main/In_class_Exercise_3.ipynb\" target=\"_parent\"><img src=\"https://colab.research.google.com/assets/colab-badge.svg\" alt=\"Open In Colab\"/></a>"
      ]
    },
    {
      "cell_type": "code",
      "metadata": {
        "colab": {
          "base_uri": "https://localhost:8080/"
        },
        "id": "8N3jHsMiyN5_",
        "outputId": "b71639fb-02be-432b-de71-e7fe65574111"
      },
      "source": [
        "# Write a python code to collect 500 items of the data you plan to collect\r\n",
        "\r\n",
        "from google.colab import drive\r\n",
        "drive.mount('/content/drive')\r\n",
        "\r\n",
        "\r\n",
        "!pip install -q keras\r\n",
        "\r\n",
        "\r\n",
        "import os\r\n",
        "\r\n",
        "base_dir = '/content/drive/My Drive/datasett'\r\n",
        "\r\n",
        "train_dir = os.path.join(base_dir, 'train')\r\n",
        "validation_dir = os.path.join(base_dir, 'test')\r\n",
        "\r\n",
        "\r\n",
        "train_affected_dir = os.path.join(train_dir, 'affected')\r\n",
        "train_normal_dir = os.path.join(train_dir, 'normal')\r\n",
        "\r\n",
        "\r\n",
        "validation_affected_dir = os.path.join(validation_dir, 'affected')\r\n",
        "validation_normal_dir = os.path.join(validation_dir, 'normal')\r\n",
        "\r\n",
        "\r\n",
        "train_affected_fnames = os.listdir( train_affected_dir )\r\n",
        "train_normal_fnames = os.listdir( train_normal_dir )\r\n",
        "\r\n",
        "print(train_affected_fnames[:10])\r\n",
        "print(train_normal_fnames[:10])\r\n",
        "\r\n",
        "\r\n",
        "print('total  affected images :', len(os.listdir(      train_affected_dir ) ))\r\n",
        "print('total  normal images :', len(os.listdir(      train_normal_dir ) ))\r\n",
        "\r\n",
        "\r\n"
      ],
      "execution_count": null,
      "outputs": [
        {
          "output_type": "stream",
          "text": [
            "Drive already mounted at /content/drive; to attempt to forcibly remount, call drive.mount(\"/content/drive\", force_remount=True).\n"
          ],
          "name": "stdout"
        }
      ]
    },
    {
      "cell_type": "code",
      "metadata": {
        "colab": {
          "base_uri": "https://localhost:8080/"
        },
        "id": "M9twRk2pyq6X",
        "outputId": "8114065f-d6f0-4b86-e35f-49d5f92c86a8"
      },
      "source": [
        ""
      ],
      "execution_count": null,
      "outputs": [
        {
          "output_type": "stream",
          "text": [
            "['CHNCXR_0328_1.png', 'CHNCXR_0329_1.png', 'CHNCXR_0330_1.png', 'CHNCXR_0331_1.png', 'CHNCXR_0332_1.png', 'CHNCXR_0333_1.png', 'CHNCXR_0334_1.png', 'CHNCXR_0335_1.png', 'CHNCXR_0336_1.png', 'CHNCXR_0337_1.png']\n",
            "['CHNCXR_0001_0.png', 'CHNCXR_0004_0.png', 'CHNCXR_0005_0.png', 'CHNCXR_0006_0.png', 'CHNCXR_0007_0.png', 'CHNCXR_0008_0.png', 'CHNCXR_0009_0.png', 'CHNCXR_0010_0.png', 'CHNCXR_0012_0.png', 'CHNCXR_0013_0.png']\n",
            "total  affected images : 295\n",
            "total  normal images : 406\n"
          ],
          "name": "stdout"
        }
      ]
    },
    {
      "cell_type": "code",
      "metadata": {
        "id": "tSXz_MwN4MvA"
      },
      "source": [
        "I have chosen the dataset on tuber clousis. I have collected data from the opensource. The US National\r\n",
        "Library of Medicine made two datasets of post anterior chest radiographs\r\n",
        "available: The MC set and Shenzhen set ,which were made available for\r\n",
        "public use.Montgomery County Chest X-Ray set: The MC set has been\r\n",
        "collected in collaboration with the Department of Health and Human\r\n",
        "services, Montgomery county, Maryland, USA. The set consists of 138\r\n",
        "frontal chest X-Ray from Montogomery’s Tuberculosis screening\r\n",
        "program, of which 80 are of normal cases and 58 are of manifestations\r\n",
        "with tuberculosis. Shenzhen Chest X-ray set:Shenzhen dataset is\r\n",
        "collected in collaboration with Shenzhen No.3 People’s hospital,\r\n",
        "Guangdong Medical college, Shenzhen, China. The set contains 662\r\n",
        "frontal chest x- rays, of which 326 normal cases and 336 cases are\r\n",
        "manifestations with Tuberculosis.It is one of the most standard datasets\r\n",
        "available for training for the automatic detection of tuberculosis.\r\n",
        "\r\n",
        "For accessing data to the Google Colab, I was using the Operating\r\n",
        "System(OS) library. It is efficient in accessing the files from the local\r\n",
        "path. Intially we are uploading all our files to the Google Drive and after\r\n",
        "that we are mounting our drive to the colab. After mounting ww can\r\n",
        "access drive files to the colaboratory.Using the OS library we are\r\n",
        "assigning the path of the files in the drive to the variables. So that we can\r\n",
        "access those files for our use. By following the above method we are\r\n",
        "accessing the total training set and validation sets. After accessing the files\r\n",
        "we are checking whether we have accessed the data or not by printing in\r\n",
        "the form of matrix(4x4)"
      ],
      "execution_count": null,
      "outputs": []
    },
    {
      "cell_type": "code",
      "metadata": {
        "id": "3CuZDjX_7Cfe"
      },
      "source": [
        ""
      ],
      "execution_count": null,
      "outputs": []
    },
    {
      "cell_type": "code",
      "metadata": {
        "id": "creaNylG7Cja"
      },
      "source": [
        ""
      ],
      "execution_count": null,
      "outputs": []
    }
  ]
}