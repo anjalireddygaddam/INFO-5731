{
  "nbformat": 4,
  "nbformat_minor": 0,
  "metadata": {
    "colab": {
      "name": "In class Exercise_3",
      "provenance": [],
      "collapsed_sections": [],
      "include_colab_link": true
    },
    "kernelspec": {
      "display_name": "Python 3",
      "name": "python3"
    }
  },
  "cells": [
    {
      "cell_type": "markdown",
      "metadata": {
        "id": "view-in-github",
        "colab_type": "text"
      },
      "source": [
        "<a href=\"https://colab.research.google.com/github/anjalireddygaddam/INFO-5731/blob/main/In_class_Exercise_3.ipynb\" target=\"_parent\"><img src=\"https://colab.research.google.com/assets/colab-badge.svg\" alt=\"Open In Colab\"/></a>"
      ]
    },
    {
      "cell_type": "code",
      "metadata": {
        "colab": {
          "base_uri": "https://localhost:8080/"
        },
        "id": "8N3jHsMiyN5_",
        "outputId": "b71639fb-02be-432b-de71-e7fe65574111"
      },
      "source": [
        "# Write a python code to collect 500 items of the data you plan to collect above\r\n",
        "from google.colab import drive\r\n",
        "drive.mount('/content/drive')\r\n",
        "\r\n",
        "\r\n",
        "!pip install -q keras\r\n",
        "\r\n",
        "\r\n",
        "import os\r\n",
        "\r\n",
        "base_dir = '/content/drive/My Drive/datasett'\r\n",
        "\r\n",
        "train_dir = os.path.join(base_dir, 'train')\r\n",
        "validation_dir = os.path.join(base_dir, 'test')\r\n",
        "\r\n",
        "\r\n",
        "train_affected_dir = os.path.join(train_dir, 'affected')\r\n",
        "train_normal_dir = os.path.join(train_dir, 'normal')\r\n",
        "\r\n",
        "\r\n",
        "validation_affected_dir = os.path.join(validation_dir, 'affected')\r\n",
        "validation_normal_dir = os.path.join(validation_dir, 'normal')\r\n",
        "\r\n",
        "\r\n",
        "train_affected_fnames = os.listdir( train_affected_dir )\r\n",
        "train_normal_fnames = os.listdir( train_normal_dir )\r\n",
        "\r\n",
        "print(train_affected_fnames[:10])\r\n",
        "print(train_normal_fnames[:10])\r\n",
        "\r\n",
        "\r\n",
        "print('total  affected images :', len(os.listdir(      train_affected_dir ) ))\r\n",
        "print('total  normal images :', len(os.listdir(      train_normal_dir ) ))\r\n",
        "\r\n",
        "\r\n"
      ],
      "execution_count": null,
      "outputs": [
        {
          "output_type": "stream",
          "text": [
            "Drive already mounted at /content/drive; to attempt to forcibly remount, call drive.mount(\"/content/drive\", force_remount=True).\n"
          ],
          "name": "stdout"
        }
      ]
    },
    {
      "cell_type": "code",
      "metadata": {
        "colab": {
          "base_uri": "https://localhost:8080/"
        },
        "id": "M9twRk2pyq6X",
        "outputId": "8114065f-d6f0-4b86-e35f-49d5f92c86a8"
      },
      "source": [
        ""
      ],
      "execution_count": null,
      "outputs": [
        {
          "output_type": "stream",
          "text": [
            "['CHNCXR_0328_1.png', 'CHNCXR_0329_1.png', 'CHNCXR_0330_1.png', 'CHNCXR_0331_1.png', 'CHNCXR_0332_1.png', 'CHNCXR_0333_1.png', 'CHNCXR_0334_1.png', 'CHNCXR_0335_1.png', 'CHNCXR_0336_1.png', 'CHNCXR_0337_1.png']\n",
            "['CHNCXR_0001_0.png', 'CHNCXR_0004_0.png', 'CHNCXR_0005_0.png', 'CHNCXR_0006_0.png', 'CHNCXR_0007_0.png', 'CHNCXR_0008_0.png', 'CHNCXR_0009_0.png', 'CHNCXR_0010_0.png', 'CHNCXR_0012_0.png', 'CHNCXR_0013_0.png']\n",
            "total  affected images : 295\n",
            "total  normal images : 406\n"
          ],
          "name": "stdout"
        }
      ]
    }
  ]
}