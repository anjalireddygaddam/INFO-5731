{
  "nbformat": 4,
  "nbformat_minor": 0,
  "metadata": {
    "colab": {
      "name": "InclassExercise_2",
      "provenance": [],
      "collapsed_sections": [],
      "authorship_tag": "ABX9TyMnzvxXmWtXaKnWIojaV3cE",
      "include_colab_link": true
    },
    "kernelspec": {
      "name": "python3",
      "display_name": "Python 3"
    }
  },
  "cells": [
    {
      "cell_type": "markdown",
      "metadata": {
        "id": "view-in-github",
        "colab_type": "text"
      },
      "source": [
        "<a href=\"https://colab.research.google.com/github/anjalireddygaddam/INFO-5731-Inclass_Exercises/blob/main/InclassExercise_2.ipynb\" target=\"_parent\"><img src=\"https://colab.research.google.com/assets/colab-badge.svg\" alt=\"Open In Colab\"/></a>"
      ]
    },
    {
      "cell_type": "code",
      "metadata": {
        "colab": {
          "base_uri": "https://localhost:8080/"
        },
        "id": "3QBP8VXK80Ah",
        "outputId": "27eaa132-c8de-476e-fea7-097e05149aec"
      },
      "source": [
        "# Write a Python program to find the duplicate elements in a given array of integers. Return -1 If there are no such elements.\r\n",
        "\r\n",
        "def duplicateElementCheck(numbers):\r\n",
        "    duplicateElements: list = []\r\n",
        "    for number in range(0, len(numbers)):\r\n",
        "        for index in range(number+1, len(numbers)):\r\n",
        "            if(numbers[number] == numbers[index]):\r\n",
        "                duplicateElements.append(number)\r\n",
        "    if(len(duplicateElements) > 0):\r\n",
        "        print(\"Below Duplicate elements Found\")\r\n",
        "        print(duplicateElements)\r\n",
        "        pass\r\n",
        "    else:\r\n",
        "        print(\"No Duplicate elements Found\")\r\n",
        "        return -1\r\n",
        "\r\n",
        "\r\n",
        "numberArray = [10, 11, 12, 22, 33, 23, 44, 2, 32, 72]\r\n",
        "duplicateElementCheck(numberArray)"
      ],
      "execution_count": 1,
      "outputs": [
        {
          "output_type": "stream",
          "text": [
            "No Duplicate elements Found\n"
          ],
          "name": "stdout"
        },
        {
          "output_type": "execute_result",
          "data": {
            "text/plain": [
              "-1"
            ]
          },
          "metadata": {
            "tags": []
          },
          "execution_count": 1
        }
      ]
    },
    {
      "cell_type": "code",
      "metadata": {
        "colab": {
          "base_uri": "https://localhost:8080/"
        },
        "id": "KRLcNScu85TI",
        "outputId": "dc363ed2-1bce-4e80-ce2a-ffe6eb1ec1e3"
      },
      "source": [
        "# Write a Python program to select all the Sundays of a specified year.\r\n",
        "\r\n",
        "from datetime import date\r\n",
        "import calendar\r\n",
        "\r\n",
        "\r\n",
        "def findSundaysInAGivenYear(year: int):\r\n",
        "    calendarToCheck = calendar.TextCalendar(calendar.SUNDAY)\r\n",
        "    for month in range(1, 13):\r\n",
        "        for day in calendarToCheck.itermonthdays(year, month):\r\n",
        "            if day != 0:\r\n",
        "                dayIndex = date(year, month, day)\r\n",
        "                if(dayIndex.weekday() == 6):\r\n",
        "                    print(year, month, day)\r\n",
        "\r\n",
        "\r\n",
        "findSundaysInAGivenYear(2021)"
      ],
      "execution_count": 2,
      "outputs": [
        {
          "output_type": "stream",
          "text": [
            "2021 1 3\n",
            "2021 1 10\n",
            "2021 1 17\n",
            "2021 1 24\n",
            "2021 1 31\n",
            "2021 2 7\n",
            "2021 2 14\n",
            "2021 2 21\n",
            "2021 2 28\n",
            "2021 3 7\n",
            "2021 3 14\n",
            "2021 3 21\n",
            "2021 3 28\n",
            "2021 4 4\n",
            "2021 4 11\n",
            "2021 4 18\n",
            "2021 4 25\n",
            "2021 5 2\n",
            "2021 5 9\n",
            "2021 5 16\n",
            "2021 5 23\n",
            "2021 5 30\n",
            "2021 6 6\n",
            "2021 6 13\n",
            "2021 6 20\n",
            "2021 6 27\n",
            "2021 7 4\n",
            "2021 7 11\n",
            "2021 7 18\n",
            "2021 7 25\n",
            "2021 8 1\n",
            "2021 8 8\n",
            "2021 8 15\n",
            "2021 8 22\n",
            "2021 8 29\n",
            "2021 9 5\n",
            "2021 9 12\n",
            "2021 9 19\n",
            "2021 9 26\n",
            "2021 10 3\n",
            "2021 10 10\n",
            "2021 10 17\n",
            "2021 10 24\n",
            "2021 10 31\n",
            "2021 11 7\n",
            "2021 11 14\n",
            "2021 11 21\n",
            "2021 11 28\n",
            "2021 12 5\n",
            "2021 12 12\n",
            "2021 12 19\n",
            "2021 12 26\n"
          ],
          "name": "stdout"
        }
      ]
    },
    {
      "cell_type": "code",
      "metadata": {
        "id": "5UYk9uAQ9C1q"
      },
      "source": [
        "# Write a program to read all the txt files and save the sentences in all the files into one csv file with two columns, the first column is sentence id (txt file name+sentence line number), the second column is the sentence text content.\r\n",
        "\r\n",
        "import pandas\r\n",
        "import os\r\n",
        "\r\n",
        "\r\n",
        "def createCSVFile(directory: str, csvFileName: str):\r\n",
        "    for filename in os.listdir(directory):\r\n",
        "        if(filename.endswith(\".txt\")):\r\n",
        "            completeFilePath = os.path.join(\r\n",
        "                directory, filename)\r\n",
        "            df = pandas.read_csv(\r\n",
        "                completeFilePath, sep=\"\\t\", header=None)\r\n",
        "            indexLine = []\r\n",
        "            for row in range(0, df.last_valid_index()+1):\r\n",
        "                indexLine.insert(row, filename+str(row))\r\n",
        "            df.insert(1, \"\", indexLine, True)\r\n",
        "            df.to_csv(path_or_buf=directory+csvFileName, mode='a', index=False, sep=\",\",\r\n",
        "                      header=None)\r\n",
        "\r\n",
        "\r\n",
        "createCSVFile(\"directory/assignment\", \"csvFileName.csv\")\r\n",
        "\r\n",
        "# Remove all the punctuations from the sentences, save the processed sentences into a new column in the same csv file.\r\n",
        "\r\n",
        "import csv\r\n",
        "import os\r\n",
        "userinput = input(\"Enter a word: \")\r\n",
        "with open(\"output.csv\",'r') as inputfile:\r\n",
        "    filereader = csv.reader(inputfile)\r\n",
        "    for row in filereader:\r\n",
        "        searchterm =  \"userinput\" \r\n",
        "        if searchterm in row[2]:\r\n",
        "            foundwords = os.findall(search_term,row[2])\r\n",
        "            print(row[0],row[1],len(found_words))\r\n",
        "\r\n",
        "  # Ask the user to enter a word, return all the sentences that include this word, three kinds of information should be returned: sentence id, sentence text content, the count that user input word appear in the sentence..\r\n",
        "\r\n",
        "  import csv\r\n",
        "import re\r\n",
        "temporarydata = [] \r\n",
        "with open(\"output.csv\",'r') as inputfile:\r\n",
        "    filereader = csv.reader(inputfile) \r\n",
        "    for row in filereader:\r\n",
        "        line = re.sub(r\"[^a-zA-Z\\s\\']\",\"\",row[1]) \r\n",
        "        line = re.sub(\"\\s\\s\",\" \",line) \r\n",
        "        row(line) \r\n",
        "        temporarydata.append(row) \r\n",
        "with open(\"output.csv\",\"w\") as output_file:\r\n",
        "    writer = csv.writer(output_file,delimiter=',') \r\n",
        "    writer.writerows(temp_data) "
      ],
      "execution_count": null,
      "outputs": []
    },
    {
      "cell_type": "code",
      "metadata": {
        "id": "CV1_omx89E-x"
      },
      "source": [
        "# Install packages nltk, numpy, scipy, pandas, and sklearn on Google Colab. Write a program to test whether they are installed successfully."
      ],
      "execution_count": null,
      "outputs": []
    },
    {
      "cell_type": "code",
      "metadata": {
        "id": "eVH-e5u79LAI"
      },
      "source": [
        "! pip install nltk\r\n",
        "! pip install numpy\r\n",
        "! pip install scipy\r\n",
        "! pip install pandas\r\n",
        "! pip install scikit-learn"
      ],
      "execution_count": null,
      "outputs": []
    },
    {
      "cell_type": "code",
      "metadata": {
        "colab": {
          "base_uri": "https://localhost:8080/"
        },
        "id": "mMxYQzR79L58",
        "outputId": "29e1b3e9-c3e1-45e2-93a8-e89a404a17b6"
      },
      "source": [
        "#test nltk\r\n",
        "\r\n",
        "from nltk.tokenize import TweetTokenizer\r\n",
        "tknz = TweetTokenizer()\r\n",
        "s0 = \"INFO 5731 and some arrows < > :: :> <: -> <--\"\r\n",
        "print(tknz.tokenize(s0))\r\n",
        "print(\"**\")\r\n",
        "\r\n",
        "#test numpy\r\n",
        "\r\n",
        "import numpy as np\r\n",
        "nums2d = np.array(([1,2,3],[4,5,6],[7,8,9]))\r\n",
        "print(nums2d)\r\n",
        "\r\n",
        "#test spicy\r\n",
        "\r\n",
        "import numpy as np\r\n",
        "from scipy import linalg\r\n",
        "A = np.array([[1,2], [4,3]])\r\n",
        "B = linalg.inv(A)\r\n",
        "print(B)\r\n",
        "\r\n",
        "#test pandas\r\n",
        "\r\n",
        "import pandas as pd\r\n",
        "datas = {'me' : [1,2], 'you' : [9,8]}\r\n",
        "row_labels = [101, 102, 103, 104, 105, 106, 107]\r\n",
        "df = pd.DataFrame(data=datas,)\r\n",
        "print(df)\r\n",
        "\r\n",
        "\r\n",
        "\r\n",
        "# test scikit learn\r\n",
        "\r\n",
        "from sklearn import datasets\r\n",
        "# Load data\r\n",
        "iris= datasets.load_iris()\r\n",
        "# Print shape of data to confirm data is loaded\r\n",
        "print(iris.data.shape)"
      ],
      "execution_count": 3,
      "outputs": [
        {
          "output_type": "stream",
          "text": [
            "['INFO', '5731', 'and', 'some', 'arrows', '<', '>', '::', ':', '>', '<', ':', '->', '<--']\n",
            "**\n",
            "[[1 2 3]\n",
            " [4 5 6]\n",
            " [7 8 9]]\n",
            "[[-0.6  0.4]\n",
            " [ 0.8 -0.2]]\n",
            "   me  you\n",
            "0   1    9\n",
            "1   2    8\n",
            "(150, 4)\n"
          ],
          "name": "stdout"
        }
      ]
    }
  ]
}